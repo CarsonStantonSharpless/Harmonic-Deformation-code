{
 "cells": [
  {
   "cell_type": "code",
   "execution_count": 13,
   "id": "2b4caacc",
   "metadata": {},
   "outputs": [],
   "source": [
    "import numpy as np\n",
    "from collections import defaultdict\n",
    "\n",
    "import nbimporter\n",
    "from HelperFunctions import SparseMatrix, buildLaplacian"
   ]
  },
  {
   "cell_type": "code",
   "execution_count": 14,
   "id": "0e28fe71",
   "metadata": {},
   "outputs": [],
   "source": [
    "def myLinearHarmonic(v: np.array, f: np.array, b: np.array, bc: np.array, k: int) -> np.array:\n",
    "    \"\"\"\n",
    "    Inputs:\n",
    "    v: Array of vertices\n",
    "    f: Array of faces\n",
    "    b: Array of indices for boundary vertices\n",
    "    bc: Array of boundary values\n",
    "    k: Power of harmonic operator\n",
    "    ______________________________\n",
    "    Output:\n",
    "    w: Array of final vertices\n",
    "    \"\"\"\n",
    "    \n",
    "    #Step 1: Compute the (sparse) Laplacian Matrix\n",
    "    L: SparseMatrix = buildLaplacian(v,f)\n",
    "\n",
    "    #Step 2: Bring L to the correct harmonic degree\n",
    "    A: SparseMatrix = L.pow_sparse(k)\n",
    "   \n",
    "    #Step 3: Solve the linear system\n",
    "    \n",
    "    #array of all vertices\n",
    "    v_all: np.array = np.arange(v.shape[0])\n",
    "    #array of non-boundary vertices\n",
    "    v_in: np.array = np.setdiff1d(v_all,b)\n",
    "    \n",
    "    #slice it up\n",
    "    A_ii: SparseMatrix = A.slice_sparse(v_in,v_in)\n",
    "    A_ib: SparseMatrix = A.slice_sparse(v_in,b.flatten())\n",
    "\n",
    "    #define B\n",
    "    B: np.array = -1 * A_ib.sparse_times_dense(bc)\n",
    "\n",
    "    #solve seperately for x,y,z\n",
    "    w_x = SparseMatrix.solve_sparse(A_ii, B[:, 0])\n",
    "    w_y = SparseMatrix.solve_sparse(A_ii, B[:, 1])\n",
    "    w_z = SparseMatrix.solve_sparse(A_ii, B[:, 2])\n",
    "    \n",
    "    wi = np.stack((w_x, w_y, w_z), axis=1)\n",
    "    \n",
    "    #Step 4: we solved for interior so now concate with boundary vertices\n",
    "    w: np.array = np.zeros_like(v)\n",
    "    w[v_in] = wi\n",
    "    w[b.flatten()] = bc\n",
    "    \n",
    "    return w\n",
    "    "
   ]
  }
 ],
 "metadata": {
  "kernelspec": {
   "display_name": "Python 3 (ipykernel)",
   "language": "python",
   "name": "python3"
  },
  "language_info": {
   "codemirror_mode": {
    "name": "ipython",
    "version": 3
   },
   "file_extension": ".py",
   "mimetype": "text/x-python",
   "name": "python",
   "nbconvert_exporter": "python",
   "pygments_lexer": "ipython3",
   "version": "3.11.5"
  }
 },
 "nbformat": 4,
 "nbformat_minor": 5
}
